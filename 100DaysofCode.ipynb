{
  "nbformat": 4,
  "nbformat_minor": 0,
  "metadata": {
    "colab": {
      "provenance": [],
      "authorship_tag": "ABX9TyPsQcN4ipEXK+YQ6v1kmW1G",
      "include_colab_link": true
    },
    "kernelspec": {
      "name": "python3",
      "display_name": "Python 3"
    },
    "language_info": {
      "name": "python"
    }
  },
  "cells": [
    {
      "cell_type": "markdown",
      "metadata": {
        "id": "view-in-github",
        "colab_type": "text"
      },
      "source": [
        "<a href=\"https://colab.research.google.com/github/MasterLeeU/python/blob/main/100DaysofCode.ipynb\" target=\"_parent\"><img src=\"https://colab.research.google.com/assets/colab-badge.svg\" alt=\"Open In Colab\"/></a>"
      ]
    },
    {
      "cell_type": "markdown",
      "source": [
        "# Days\n"
      ],
      "metadata": {
        "id": "Js22VOoYzYe-"
      }
    },
    {
      "cell_type": "markdown",
      "source": [
        "Day1"
      ],
      "metadata": {
        "id": "k94yCl67zr2R"
      }
    },
    {
      "cell_type": "code",
      "source": [
        "# Write your code below this line\n",
        "print (\"Hello World!\")\n",
        "\n",
        "# Coding Exercise 1: Printing Practice\n",
        "print (\"1. Mix 500g of Flour, 10g of yeast, and 300ml of Water in a bowl. \\n\"\n",
        "\"2. Knead the dough for 10 minutes. \\n\"\n",
        "\"3. Add 3g of Salt. \\n\"\n",
        "\"4. Leave to rise for 2 hours. \\n\"\n",
        "\"5. Bake at 200 degrees C for 30 minuntes.\")\n",
        "\n",
        "# Task 3 Inputs\n",
        "print(\"Hello \" + input (\"What is your name?\") + \"!\")\n",
        "\n",
        "# task 4 Variables\n",
        "name = input(\"What is your name?\")\n",
        "print(len(name))\n",
        "\n",
        "print(len(input(\"What is your name?\")))"
      ],
      "metadata": {
        "id": "WMwxgYHnzVAX"
      },
      "execution_count": null,
      "outputs": []
    },
    {
      "cell_type": "markdown",
      "source": [
        "Day2"
      ],
      "metadata": {
        "id": "VR29Eq_YzuU6"
      }
    },
    {
      "cell_type": "code",
      "source": [
        "print(len(\"hello\"))\n",
        "\n",
        "# Subscripting\n",
        "print(\"Hello\"[4])\n",
        "\n",
        "# String\n",
        "print(\"123\" + \"345\")\n",
        "print(type(\"123\"))\n",
        "\n",
        "# Interger = Whole number\n",
        "print (123 + 345)\n",
        "print(type(123))\n",
        "\n",
        "# Large Integers\n",
        "print (123_456_789)\n",
        "\n",
        "# Float = Floating point number\n",
        "print (3.14159)\n",
        "print(type(3.14))\n",
        "\n",
        "# Boolean\n",
        "print (True)\n",
        "print (False)\n",
        "print(type(False))\n",
        "\n",
        "int(\"123\")\n",
        "\n",
        "print(\"Number of letters in your name: \" + str(len(input(\"Enter your name \\n\"))))"
      ],
      "metadata": {
        "id": "PD2Da5Nbz0um"
      },
      "execution_count": null,
      "outputs": []
    },
    {
      "cell_type": "markdown",
      "source": [
        "Day3"
      ],
      "metadata": {
        "id": "X1ztVmDLz4vo"
      }
    },
    {
      "cell_type": "code",
      "source": [
        "number_to_check = int(input(\"Enter your number\"))\n",
        "\n",
        "if number_to_check % 2 == 0:\n",
        "    print(\"Number is Even\")\n",
        "else:\n",
        "    print(\"Number is Odd\")"
      ],
      "metadata": {
        "id": "geJ4w4KFz7Dm"
      },
      "execution_count": null,
      "outputs": []
    },
    {
      "cell_type": "markdown",
      "source": [
        "Day4"
      ],
      "metadata": {
        "id": "c1SuMWcZz9w0"
      }
    },
    {
      "cell_type": "code",
      "source": [
        "# Randomization\n",
        "import random\n",
        "\n",
        "#total_number = input(int(\"Enter your total number of Winners?\"))\n",
        "random_integer = random.randint(0, 1679)\n",
        "print(random_integer)\n",
        "\n",
        "#Coin Flip\n",
        "# coin_flip = random.randint(1, 2)\n",
        "# if coin_flip == 1:\n",
        "#     print(\"Heads\")\n",
        "# else:\n",
        "#     print(\"Tails\")\n",
        "\n",
        "# Friend List Randomizer\n",
        "# friends = [\"Lee\", \"Dean\", \"Francis\", \"Matt\", \"Remith\"]\n",
        "# print(random.choice(friends))\n",
        "\n",
        "# random_index = random.randint(0, 4)\n",
        "# print(friends[random_index])\n",
        "# fruits = [\"Strawberries\", \"Nectarines\", \"Apples\", \"Grapes\", \"Peaches\", \"Cherries\", \"Pears\"]\n",
        "# vegetables = [\"Spinach\", \"Kale\", \"Tomatoes\", \"Celery\", \"Potatoes\"]\n",
        "\n",
        "# dirty_dozen = [fruits, vegetables]\n",
        "\n",
        "# print(dirty_dozen[1][1])"
      ],
      "metadata": {
        "id": "ZCuJ0Modz_B6"
      },
      "execution_count": null,
      "outputs": []
    },
    {
      "cell_type": "markdown",
      "source": [
        "Day5"
      ],
      "metadata": {
        "id": "Dycl170r0C1D"
      }
    },
    {
      "cell_type": "code",
      "source": [
        "# numbers = [\"0\",\"1\",\"2\",\"3\",\"4\",\"5\",\"6\",\"7\",\"8\",\"9\"]\n",
        "# lower_letters = [\"a\",\"b\",\"c\",\"d\",\"e\",\"f\",\"g\",\"h\",\"i\",\"j\",\"k\",\"l\",\"m\",\"n\",\"o\",\"p\",\"r\",\"s\",\"t\",\"u\",\"v\",\"w\",\"x\",\"y\",\"z\"]\n",
        "# upper_letters = [\"A\",\"B\",\"C\",\"D\",\"E\",\"F\",\"G\",\"H\",\"I\",\"J\",\"K\",\"L\",\"M\",\"N\",\"O\",\"P\",\"R\",\"S\",\"T\",\"U\",\"V\",\"W\",\"X\",\"Y\",\"Z\"]\n",
        "\n",
        "#Range Function\n",
        "total = 0\n",
        "for number in range (1, 101):\n",
        "    total += number\n",
        "print(total)\n",
        "\n",
        "for number in range(1, 101):\n",
        "    if number % 3 ==0 and number % 5 == 0:\n",
        "        print(\"FizzBuzz\")\n",
        "    elif number % 3 == 0:\n",
        "         print (\"fizz\")\n",
        "    elif number % 5 == 0:\n",
        "         print (\"buzz\")\n",
        "    else:\n",
        "        print(number)"
      ],
      "metadata": {
        "id": "VIaeRVgA0D9Q"
      },
      "execution_count": null,
      "outputs": []
    },
    {
      "cell_type": "markdown",
      "source": [
        "Day6"
      ],
      "metadata": {
        "id": "odg5Pnsp0LZ1"
      }
    },
    {
      "cell_type": "code",
      "source": [
        "#Functions, Code Blocks, and While Loops\n",
        "# Karel the Robot\n",
        "\n",
        "# Funtions\n",
        "print(\"Hello\")\n",
        "num_char = len(\"Hello\")\n",
        "print(num_char)\n",
        "\n",
        "def dis_function():\n",
        "    print(\"hello\")\n",
        "    print(\"bye\")\n",
        "\n",
        "dis_function()\n",
        "\n",
        "#Indentation\n",
        "def dis_function():\n",
        "    print(\"hello\") # this is indented\n",
        "    print(\"bye\")\n",
        "# indentation is important in python\n",
        "# Indentation is used to define the scope of a function or a loop\n",
        "# Indentation should be done with spaces.\n",
        "\n",
        "#While Loops\n",
        "# while #something is true:\n",
        "    # do something\n",
        "    print(\"hello\")\n",
        "    # this will run forever unless you break out of the loop\n",
        "    # to break out of the loop, you can use a break statement\n",
        "    # or you can use a condition to break out of the loop\n",
        "    # for example, if you want to break out of the loop after 10 iterations\n",
        "    count = 0\n",
        "    while count < 10:\n",
        "        print(count)\n",
        "        count += 1\n",
        "    # this will print the numbers from 0 to 9\n",
        "    # you can also use a while loop to create a countdown\n",
        "    # for example, if you want to create a countdown from 10 to 0\n",
        "    count = 10\n",
        "    while count > 0:\n",
        "        print(count)\n",
        "        count -= 1\n",
        "    # this will print the numbers from 10 to 1\n",
        "    # you can also use a while loop to create a countdown\n",
        "    # for example, if you want to create a countdown from 10 to 0"
      ],
      "metadata": {
        "id": "9BZnQCsv0MrX"
      },
      "execution_count": null,
      "outputs": []
    },
    {
      "cell_type": "markdown",
      "source": [
        "Day7"
      ],
      "metadata": {
        "id": "25uJVyU_0Ox1"
      }
    },
    {
      "cell_type": "code",
      "source": [
        "#Day 7 Hangman Game"
      ],
      "metadata": {
        "id": "eSZ6odwy0VNu"
      },
      "execution_count": null,
      "outputs": []
    },
    {
      "cell_type": "markdown",
      "source": [
        "Day8"
      ],
      "metadata": {
        "id": "Ex5SOOC40Zom"
      }
    },
    {
      "cell_type": "code",
      "source": [
        "# Functions\n",
        "#def greet():\n",
        "#    print(\"Hello \")\n",
        "#    print(\"How do you do?\")\n",
        "#    print(\"Isn't the weather nice today?\")\n",
        "#greet()\n",
        "\n",
        "#Function that allows an input\n",
        "#def greet_with_name(name):\n",
        "#    print(f\"Hello \" + {name})\n",
        "#    print(f\"How do you do \" + {name} + \"?\")\n",
        "#    print(f\"Isn't the weather nice today \" + {name} + \"?\")\n",
        "#greet_with_name(\"John\")\n",
        "\n",
        "\n",
        "#def life_in_weeks(age):\n",
        "#    days = age * 365\n",
        "#    weeks = days / 7\n",
        "#    months = days / 30.44\n",
        "#    print(f\"You have {days} days, {weeks} weeks, and {months} months left to live.\")\n",
        "#    return days, weeks, months\n",
        "#life_in_weeks(25)\n",
        "\n",
        "#def greet_with(name, location):\n",
        "#    print(f\"Hello {name}\")\n",
        "#    print(f\"How do you do {name}?\")\n",
        "#    print(f\"Isn't the weather nice today in {location}?\")\n",
        "#greet_with(\"John\", \"New York\")\n",
        "\n",
        "def calculate_love_score(name1, name2):\n",
        "    # Convert names to lowercase and remove spaces\n",
        "    name1 = name1.lower().replace(\" \", \"\")\n",
        "    name2 = name2.lower().replace(\" \", \"\")\n",
        "\n",
        "    # Combine names\n",
        "    combined_names = name1 + name2\n",
        "\n",
        "    # Count the occurrences of each letter in the combined names\n",
        "    letter_count = {}\n",
        "    for letter in combined_names:\n",
        "        if letter in letter_count:\n",
        "            letter_count[letter] += 1\n",
        "        else:\n",
        "            letter_count[letter] = 1\n",
        "\n",
        "    # Calculate the love score based on the counts of letters\n",
        "    love_score = sum(letter_count.values()) % 100\n",
        "\n",
        "    return love_score\n",
        "# Get user input for names\n",
        "name1 = input(\"Enter your name: \")\n",
        "name2 = input(\"Enter your crush's name: \")\n",
        "# Calculate the love score\n",
        "love_score = calculate_love_score(name1, name2)\n",
        "# Display the love score\n",
        "print(f\"Your love score is: {love_score}%\")\n",
        "# This code calculates a \"love score\" based on the names of two people.\n",
        "# It combines the names, counts the occurrences of each letter, and calculates a score based on those counts.\n",
        "# The score is then displayed as a percentage."
      ],
      "metadata": {
        "id": "2rI0iXMA0a8c"
      },
      "execution_count": null,
      "outputs": []
    },
    {
      "cell_type": "markdown",
      "source": [
        "Day9"
      ],
      "metadata": {
        "id": "yDcLTZMX0bv7"
      }
    },
    {
      "cell_type": "code",
      "source": [
        "# Day 9 Dicitionaries and Nesting\n",
        "\n",
        "# Dictionaries\n",
        "# A dictionary is a collection of key-value pairs\n",
        "# A dictionary is created using curly braces {} or the dict() function\n",
        "# A dictionary is unordered, mutable, and indexed\n",
        "# A dictionary can contain any data type as a key or value.\n",
        "# A dictionary can be nested, meaning a dictionary can contain other dictionaries as values\n",
        "\n",
        "# Example of a dictionary\n",
        "programming_dictionary = {\n",
        "    \"Bug\": \"An error in a program that prevents the program from running as expected.\",\n",
        "    \"Function\": \"A piece of code that you can call over and over again.\",\n",
        "    \"Loop\": \"The action of doing something over and over again.\",\n",
        "}\n",
        "\n",
        "# Adding new items to a dictionary\n",
        "programming_dictionary[\"New Key\"] = \"New Value\"\n",
        "print(programming_dictionary)\n",
        "\n",
        "# Creating an empty dictionary\n",
        "# empty_dictionary = {}\n",
        "\n",
        "# Wipe an existing dictionary\n",
        "# programming_dictionary = {}\n",
        "\n",
        "# Edit an item in a dictionary\n",
        "programming_dictionary[\"Bug\"] = \"A moth in your computer.\"\n",
        "print(programming_dictionary)\n",
        "\n",
        "# Looping through a dictionary\n",
        "for key in programming_dictionary:\n",
        "    print(key)\n",
        "    print(programming_dictionary[key])\n",
        "\n",
        "\n",
        "# Nesting\n",
        "# A dictionary can contain other dictionaries as values\n",
        "# Example of a nested dictionary\n",
        "travel_log = {\n",
        "    \"France\": {\n",
        "        \"cities_visited\": [\"Paris\", \"Lille\", \"Dijon\"],\n",
        "        \"total_visits\": 12,\n",
        "    },\n",
        "    \"Germany\": {\n",
        "        \"cities_visited\": [\"Berlin\", \"Hamburg\", \"Stuttgart\"],\n",
        "        \"total_visits\": 5,\n",
        "    },\n",
        "}\n",
        "\n",
        "# print Lille\n",
        "print(travel_log[\"France\"][\"cities_visited\"][1])\n",
        "\n",
        "# Nesting a dictionary in a dictionary\n",
        "travel_log[\"Italy\"] = {\n",
        "    \"cities_visited\": [\"Rome\", \"Venice\", \"Florence\"],\n",
        "    \"total_visits\": 3,\n",
        "}\n",
        "\n",
        "# Looping through a nested dictionary\n",
        "for country, info in travel_log.items():\n",
        "    print(f\"{country}: {info['total_visits']} visits\")\n",
        "    print(\"Cities visited:\")\n",
        "    for city in info[\"cities_visited\"]:\n",
        "        print(city)\n",
        "\n",
        "# Example of a nested dictionary\n",
        "def add_new_country(country, cities_visited, total_visits):\n",
        "    travel_log[country] = {\n",
        "        \"cities_visited\": cities_visited,\n",
        "        \"total_visits\": total_visits,\n",
        "    }\n",
        "# Example of a nested dictionary\n",
        "add_new_country(\"Russia\", [\"Moscow\", \"Saint Petersburg\"], 2)\n",
        "print(travel_log)\n",
        "\n",
        "print(travel_log[\"Germany\"][\"cities_visited\"][2])"
      ],
      "metadata": {
        "id": "UywU2o9S0chu"
      },
      "execution_count": null,
      "outputs": []
    },
    {
      "cell_type": "markdown",
      "source": [
        "Day10"
      ],
      "metadata": {
        "id": "uz7DvkIS0nm-"
      }
    },
    {
      "cell_type": "code",
      "source": [
        "#Day 10\n",
        "\n",
        "def format_name(f_name, l_name):\n",
        "    if f_name == \"\" or l_name ==\"\":\n",
        "        return \"You did not enter the correct Information\"\n",
        "    f_name.title()\n",
        "    l_name.title()\n",
        "    return f\"{f_name} {l_name}\"\n",
        "\n",
        "print(format_name(input(\"What is your first name? \\n\"), input(\"What is your last name? \\n\")))\n",
        "\n",
        "# #docstrings\n",
        "# # in between triple \"\"\n",
        "#     \"\"\"this should be a Docstring,\n",
        "#     A docstring is used to document a function\"\"\""
      ],
      "metadata": {
        "id": "WrBwqyt40olT"
      },
      "execution_count": null,
      "outputs": []
    },
    {
      "cell_type": "markdown",
      "source": [
        "Day11"
      ],
      "metadata": {
        "id": "i16Q0WUy0phn"
      }
    },
    {
      "cell_type": "code",
      "source": [],
      "metadata": {
        "id": "9f6EBT_L0qo2"
      },
      "execution_count": null,
      "outputs": []
    },
    {
      "cell_type": "markdown",
      "source": [
        "Day12"
      ],
      "metadata": {
        "id": "xbQVbDDI0rSr"
      }
    },
    {
      "cell_type": "code",
      "source": [],
      "metadata": {
        "id": "YyGlLP0v0sdk"
      },
      "execution_count": null,
      "outputs": []
    },
    {
      "cell_type": "markdown",
      "source": [
        "Day13"
      ],
      "metadata": {
        "id": "GUA4Lyzq0soX"
      }
    },
    {
      "cell_type": "code",
      "source": [],
      "metadata": {
        "id": "Vxj9Ywm-0t6O"
      },
      "execution_count": null,
      "outputs": []
    },
    {
      "cell_type": "markdown",
      "source": [
        "Day14"
      ],
      "metadata": {
        "id": "-CYieyFQ0uFy"
      }
    },
    {
      "cell_type": "code",
      "source": [
        "# Higher or Lower Game\n",
        "# Generate Artwork\n",
        "import random\n",
        "\n",
        "from art.py import logo\n",
        "print(logo)\n",
        "\n",
        "\n",
        "def format_data(account):\n",
        "    \"\"\"Takes the account data and returns the printable format. \"\"\"\n",
        "    account_name = account[\"name\"]\n",
        "    account_desc = account[\"description\"]\n",
        "    account_country = account[\"country\"]\n",
        "\n",
        "\n",
        "# Clear the screen\n",
        "\n",
        "\n",
        "\n",
        "account_a = random.choice(data)\n",
        "account_b = random.choice(data)\n",
        "\n",
        "function"
      ],
      "metadata": {
        "id": "ZvKE8r3p0vOJ"
      },
      "execution_count": null,
      "outputs": []
    },
    {
      "cell_type": "markdown",
      "source": [
        "Day15"
      ],
      "metadata": {
        "id": "0nTtYNLS0yTY"
      }
    },
    {
      "cell_type": "code",
      "source": [
        "# Virtual Coffee Machine\n",
        "# 3 Drink, Esspresso, Latte and Cappaccino\n",
        "# Coin Operated\n",
        "# Resources Check\n",
        "menu = {\n",
        "    \"espresso\": {\n",
        "        \"ingredients\": {\n",
        "            \"water\": 100,\n",
        "            \"milk\": 0,\n",
        "            \"coffee\": 50\n",
        "        },\n",
        "        \"cost\": 2.5\n",
        "    },\n",
        "    \"latte\":{\n",
        "        \"ingredients\":{\n",
        "            \"water\": 100,\n",
        "            \"milk\": 100,\n",
        "            \"coffee\": 50,\n",
        "        },\n",
        "        \"cost\": 3.5\n",
        "    },\n",
        "    \"cappaccino\": {\n",
        "        \"ingredients\":{\n",
        "            \"water\": 50,\n",
        "            \"milk\": 150,\n",
        "            \"coffee\": 50,\n",
        "        },\n",
        "        \"cost\": 5\n",
        "    }\n",
        "}\n",
        "resources = {\n",
        "    \"water\": 300,\n",
        "    \"milk\": 200,\n",
        "    \"coffee\": 100,\n",
        "}\n",
        "\n",
        "print(\"Caffine Addicts Super Fix System\\n\"\n",
        "      \"Please Enter your selection\")\n",
        "\n",
        "# TODO: 1. Print report on Machine Resources\n",
        "is_on = True\n",
        "\n",
        "while is_on:\n",
        "    choice = input(\"Please make a selection: Espresso / Latte / Cappaccino\")\n",
        "    if choice ==\"off\":\n",
        "        is_on = False\n",
        "    elif choice == \"report\":\n",
        "        print(f\"Water:  {resources['water']}ml\")\n",
        "        print(f\"Milk: {resources ['milk']}ml\")\n",
        "        print(f\"Coffee:{resources ['coffee']}g\")"
      ],
      "metadata": {
        "id": "5oGzepcX0zE2"
      },
      "execution_count": null,
      "outputs": []
    },
    {
      "cell_type": "markdown",
      "source": [
        "Day16"
      ],
      "metadata": {
        "id": "LUILRyLY02yE"
      }
    },
    {
      "cell_type": "code",
      "source": [
        "# OOP Oject Oriented Programming\n",
        "# Breaking down programs into smaller tasks\n",
        "\n",
        "#Object =\n",
        "    # Atributes = varible\n",
        "    # methods = functions\n",
        "\n",
        "#Object = Class\n",
        "#car = CarBlueprint()\n",
        "\n",
        "from turtle import Turtle\n",
        "leo = Turtle()\n",
        "print(leo)\n",
        "leo.shape(\"turtle\")\n",
        "leo.color(\"blue\")\n",
        "\n",
        "my_screen = Screen()\n",
        "print(my_screen.canvheight)\n",
        "my_screen.exitonclick()\n",
        "\n",
        "from prettytable import PrettyTable\n",
        "table = PrettyTable()"
      ],
      "metadata": {
        "id": "-uMtUL5E03nz"
      },
      "execution_count": null,
      "outputs": []
    },
    {
      "cell_type": "markdown",
      "source": [
        "Day17"
      ],
      "metadata": {
        "id": "BFQAlbwd06S7"
      }
    },
    {
      "cell_type": "code",
      "source": [
        "# How to create Classes\n",
        "# Pascal Case = Used in Classes\n",
        "# Camel Case = Not really used\n",
        "# snake_case = uses Underscores"
      ],
      "metadata": {
        "id": "wzibXmwn07RM"
      },
      "execution_count": null,
      "outputs": []
    },
    {
      "cell_type": "markdown",
      "source": [
        "Day18"
      ],
      "metadata": {
        "id": "pR-Irkdl09Ys"
      }
    },
    {
      "cell_type": "code",
      "source": [
        "import turtle as turtle_module\n",
        "import random\n",
        "\n",
        "mike = turtle_module.Turtle()\n",
        "mike.shape(\"classic\")\n",
        "mike.color(\"orange\")\n",
        "mike.speed(\"Fastest\")\n",
        "mike.pensize(15)\n",
        "turtle_module.colormode(255)\n",
        "\n",
        "def shape (num_sides):\n",
        "    angle = 360 / num_sides\n",
        "    for _ in (num_sides):\n",
        "        mike. forward(100)\n",
        "        mike.right(angle)\n",
        "\n",
        "for shape_side_n in range (3, 11):\n",
        "    mike.color(random.choice(color))\n",
        "\n",
        "for _ in range(4):\n",
        "    mike.forward(100),\n",
        "    mike.right(90)\n",
        "\n",
        "for _ in range(100):\n",
        "    mike.forward(10)\n",
        "    mike.penup()\n",
        "    mike.forward(10)\n",
        "    mike.pendown()\n",
        "\n",
        "for _ in range(200):\n",
        "    mike.\n",
        "\n",
        "\n",
        "\n",
        "\n",
        "screen = Screen()\n",
        "screen.exitonclick()"
      ],
      "metadata": {
        "id": "s6XtqEgY0-mU"
      },
      "execution_count": null,
      "outputs": []
    },
    {
      "cell_type": "markdown",
      "source": [
        "Day19"
      ],
      "metadata": {
        "id": "rXPPSQv91EDk"
      }
    },
    {
      "cell_type": "code",
      "source": [
        "from turtle import Turtle, Screen\n",
        "\n",
        "leo = Turtle()\n",
        "screen = Screen()\n",
        "\n",
        "def move_forward():\n",
        "    leo.forward(10)\n",
        "\n",
        "def move_backward():\n",
        "    leo.backward(10)\n",
        "\n",
        "def turn_left():\n",
        "    new_heading = leo.heading()+10\n",
        "    leo.setheading(new_heading)\n",
        "\n",
        "def turn_right():\n",
        "    new_heading = leo.heading()-10\n",
        "    leo.setheading(new_heading)\n",
        "\n",
        "screen.listen()\n",
        "screen.onkey(move_forward, \"w\")\n",
        "screen.onkey(move_backward, \"s\")\n",
        "screen.onkey(turn_left, \"a\")\n",
        "screen.onkey(turn_right, \"d\")\n",
        "screen.onkey(screen.clearscreen, \"c\")\n",
        "screen.onkey(key=\"space\", function=move_forward)\n",
        "screen.exitonclick"
      ],
      "metadata": {
        "id": "9QKoRGHn1E8p"
      },
      "execution_count": null,
      "outputs": []
    },
    {
      "cell_type": "markdown",
      "source": [
        "Day20\n"
      ],
      "metadata": {
        "id": "nPneK_Rm1H30"
      }
    },
    {
      "cell_type": "code",
      "source": [
        "from turtle import Screen\n",
        "from snake import Snake\n",
        "from food import Food\n",
        "import time\n",
        "\n",
        "screen = Screen()\n",
        "screen.setup(width=600, height=600)\n",
        "screen.bgcolor(\"black\")\n",
        "screen.title(\"My Snake Game\")\n",
        "screen.tracer(0)\n",
        "\n",
        "snake = Snake()\n",
        "food - Food()\n",
        "\n",
        "screen.listen()\n",
        "screen.onkey(snake.up, \"UP\")\n",
        "screen.onkey(snake.down, \"DOWN\")\n",
        "screen.onkey(snake.left, \"LEFT\")\n",
        "screen.onkey(snake.right, \"RIGHT\")\n",
        "\n",
        "game_is_on = True\n",
        "while game_is_on:\n",
        "    screen.update()\n",
        "    time.sleep(0.1)\n",
        "\n",
        "   # Detect collision with food\n",
        "    if snake.head.distance(food) < 15:\n",
        "        food.refresh()\n",
        "        snake.extend()\n",
        "        scoreboard.increase_score()\n",
        "\n",
        "    # Detect collision with wall\n",
        "    if snake.head.xcor() > 280 or snake.head.xcor() < -280 or snake.head.ycor() > 280 or snake.head.ycor() < -280:\n",
        "        game_is_on = False\n",
        "        scoreboard.game_over()\n",
        "\n",
        "    # Detect collision with tail\n",
        "    for segment in snake.segments[1:]:\n",
        "        if snake.head.distance(segment) < 10:\n",
        "            game_is_on = False\n",
        "            scoreboard.game_over()\n",
        "\n",
        "\n",
        "    segments[0].forward(20)\n",
        "\n",
        "\n",
        "\n",
        "\n",
        "\n",
        "screen.exitonclick()"
      ],
      "metadata": {
        "id": "o3B8lP4w1N49"
      },
      "execution_count": null,
      "outputs": []
    },
    {
      "cell_type": "markdown",
      "source": [
        "Day 24"
      ],
      "metadata": {
        "id": "A8wfwK6M4wwo"
      }
    },
    {
      "cell_type": "markdown",
      "source": [
        "Working with the local file system"
      ],
      "metadata": {
        "id": "MnRMSyhU7Llr"
      }
    },
    {
      "cell_type": "code",
      "source": [],
      "metadata": {
        "id": "QqysE4W74yVw"
      },
      "execution_count": null,
      "outputs": []
    },
    {
      "cell_type": "markdown",
      "source": [
        "Day 25"
      ],
      "metadata": {
        "id": "x6ij2y5UdMzd"
      }
    },
    {
      "cell_type": "code",
      "source": [
        "import pandas\n",
        "\n",
        "data = pandas.read_csv(\"weather_data.csv\")\n",
        "print(data[\"temp\"])\n",
        "\n"
      ],
      "metadata": {
        "id": "ZxilZWHgdP6U"
      },
      "execution_count": null,
      "outputs": []
    },
    {
      "cell_type": "code",
      "source": [
        "import pandas\n",
        "\n",
        "data = pandas.read_csv(\"2018_Central_Park_Squirrel_Census_-_Squirrel_Data.csv\")\n",
        "grey_squirrels_count = len(data[data[\"Primary Fur Color\"] == \"Gray\"])\n",
        "red_squirrels_count = len(data[data[\"Primary Fur Color\"] == \"Cinnamon\"])\n",
        "black_squirrels_count = len(data[data[\"Primary Fur Color\"] == \"Black\"])\n",
        "print(grey_squirrels_count)\n",
        "print(red_squirrels_count)\n",
        "print(black_squirrels_count)\n"
      ],
      "metadata": {
        "id": "lzCM1_pedwkP"
      },
      "execution_count": null,
      "outputs": []
    },
    {
      "cell_type": "markdown",
      "source": [
        "# Classes\n"
      ],
      "metadata": {
        "id": "BdzYOp3J1Jza"
      }
    },
    {
      "cell_type": "markdown",
      "source": [
        "Snake Class"
      ],
      "metadata": {
        "id": "FdaR2zvq1WYl"
      }
    },
    {
      "cell_type": "code",
      "source": [
        "from turtle import Turtle, Screen\n",
        "starting_positions = [(0, 0), (-20, 0), (-40, 0)]\n",
        "segments = []\n",
        "UP = 90\n",
        "DOWN = 270\n",
        "LEFT = 180\n",
        "RIGHT = 0\n",
        "\n",
        "class Snake:\n",
        "    def __init__(self):\n",
        "        self.segments = []\n",
        "        self.create_snake()\n",
        "\n",
        "    def create_snake(self):\n",
        "        for position in starting_positions:\n",
        "            new_segment = Turtle(\"square\")\n",
        "            new_segment.color(\"white\")\n",
        "            new_segment.penup()\n",
        "            new_segment.goto(position)\n",
        "            self.segments.append(new_segment)\n",
        "\n",
        "    def add_segment(self, position):\n",
        "      new_segment\n",
        "\n",
        "    def move():\n",
        "        for seg_num in range(len(segments) -1, 0, -1):\n",
        "            new_x = segments[seg_num - 1].xcor()\n",
        "            new_y = segments[seg_num - 1].ycor()\n",
        "            segments[seg_num].goto(new_x, new_y)\n",
        "            segments[0].forward(20)\n",
        "\n",
        "    def up():\n",
        "        segments[0].setheading(90)\n",
        "        segments[0].forward(20)\n",
        "\n",
        "    def down():\n",
        "        segments[0].setheading(270)\n",
        "        segments[0].forward(20)\n",
        "\n",
        "    def left():\n",
        "        segments[0].setheading(180)\n",
        "        segments[0].forward(20)\n",
        "\n",
        "    def right():\n",
        "        segments[0].setheading(0)\n",
        "        segments[0].forward(20)"
      ],
      "metadata": {
        "id": "QUFjxwL01SRF"
      },
      "execution_count": null,
      "outputs": []
    },
    {
      "cell_type": "markdown",
      "source": [
        "Food Class"
      ],
      "metadata": {
        "id": "AuGWPEdI1aPy"
      }
    },
    {
      "cell_type": "code",
      "source": [
        "from turtle import Turtle\n",
        "import random\n",
        "\n",
        "class Food(Turtle):\n",
        "\n",
        "  def __init__(self):\n",
        "    super().__init__()\n",
        "    self.shape(\"circle\")\n",
        "    self.penup()\n",
        "    self.shapesize(stretch_len=0.5, stretch_wid=0.5)\n",
        "    self.color(\"blue\")\n",
        "    self.speed(\"fastest\")\n",
        "    self.refresh()\n",
        "\n",
        "  def refresh(self):\n",
        "    random_x = random.randint(-280, 280)\n",
        "    random_y = random.randint(-280, 280)\n",
        "    self.goto(random_x, random_y)"
      ],
      "metadata": {
        "id": "mzFQ0Jnw1bt-"
      },
      "execution_count": null,
      "outputs": []
    },
    {
      "cell_type": "markdown",
      "source": [
        "Scoreboard Class"
      ],
      "metadata": {
        "id": "8dU7HzJs1fe2"
      }
    },
    {
      "cell_type": "code",
      "source": [],
      "metadata": {
        "id": "ldNqr4h11iVu"
      },
      "execution_count": null,
      "outputs": []
    }
  ]
}